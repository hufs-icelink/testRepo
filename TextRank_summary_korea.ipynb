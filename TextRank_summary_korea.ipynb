{
 "cells": [
  {
   "cell_type": "code",
   "execution_count": 1,
   "id": "f9882aee",
   "metadata": {},
   "outputs": [],
   "source": [
    "from konlpy.tag import Kkma\n",
    "from konlpy.tag import Twitter\n",
    "from sklearn.feature_extraction.text import TfidfVectorizer\n",
    "from sklearn.feature_extraction.text import CountVectorizer\n",
    "from sklearn.preprocessing import normalize\n",
    "import numpy as np"
   ]
  },
  {
   "cell_type": "code",
   "execution_count": 2,
   "id": "a4cfde6e",
   "metadata": {},
   "outputs": [],
   "source": [
    "news_content = \"Queue는 한쪽 끝(rear)에서는 enqueue, 또 다른 끝(front)에서는 dequeue 연산을 하는 유한 순서리스트이다.Queue는 FIFO(First in First out) 리스트이다.front는 dequeue할 위치를 기록하고 rear은 enqueue할 위치를 기록한다.front와 rear가 같으면 큐는 비었다는 의미와 같다.rear는 입력할 데이터의 인덱스를 가리키기에 큐의 마지막 인덱스라면 더이상 원소를 집어넣을 수 없기에 에러를 발생시킨다. 그렇지 않다면 그 다음 인덱스에 원소를 넣는다.큐가 비었다면(rear == front) 빼낼 원소가 없기에 에러를 발생시키고 deque할 원소를 기록할 front를 1 더해준다.deque 연산과 비슷한 방식이다.peek: front가 가리키는 원소를 리턴한다.delete: front가 가리키는 원소를 삭제한다.(front + 1)순차표현의 문제점: 크기가 8인 배열에서 rear = 7, front = 3일때 0,1,2 인덱스는 비었지만 사용하지 못한다.순차표현의 문제를 해결하기 위해 원형 큐 고안rear를 하나 증가시켰을 때 rear = front 라면 가득찼다는 의미와 같다.원형 큐는 순차표현 큐에 비해 빈공간을 남기지 않아 메모리 공간을 잘 활용하지만 배열로 구현되기에 큐의 크기는 제한된다는 단점이 있다.한정된 크기를 개선하기 위해 연결리스트 큐 고안.연결리스트 표현으로 바뀌었지만 내부 동작은 순차표현 큐와 비슷하다.\""
   ]
  },
  {
   "cell_type": "code",
   "execution_count": 3,
   "id": "0497dc49",
   "metadata": {},
   "outputs": [],
   "source": [
    "kkma = Kkma()"
   ]
  },
  {
   "cell_type": "code",
   "execution_count": 4,
   "id": "51d4b07b",
   "metadata": {},
   "outputs": [],
   "source": [
    "def text2sentences(text):\n",
    "    sentences = kkma.sentences(text)\n",
    "    for idx in range(0,len(sentences)):\n",
    "        if len(sentences[idx]) <= 10:\n",
    "            sentences[idx-1] +=(' '+ sentences[idx])\n",
    "            sentences[idx] = ''\n",
    "    \n",
    "    return sentences"
   ]
  },
  {
   "cell_type": "code",
   "execution_count": 5,
   "id": "08d23079",
   "metadata": {},
   "outputs": [],
   "source": [
    "sentences = text2sentences(news_content)"
   ]
  },
  {
   "cell_type": "code",
   "execution_count": 19,
   "id": "ad7c045e",
   "metadata": {},
   "outputs": [
    {
     "name": "stderr",
     "output_type": "stream",
     "text": [
      "C:\\Users\\SAMSUNG\\anaconda3\\lib\\site-packages\\konlpy\\tag\\_okt.py:17: UserWarning: \"Twitter\" has changed to \"Okt\" since KoNLPy v0.4.5.\n",
      "  warn('\"Twitter\" has changed to \"Okt\" since KoNLPy v0.4.5.')\n"
     ]
    }
   ],
   "source": [
    "twitter = Twitter()\n",
    "from konlpy.tag import Okt\n",
    "\n",
    "okt = Okt()"
   ]
  },
  {
   "cell_type": "code",
   "execution_count": 20,
   "id": "ad60018a",
   "metadata": {},
   "outputs": [],
   "source": [
    "# nouns = okt.morphs(sentences)"
   ]
  },
  {
   "cell_type": "code",
   "execution_count": 71,
   "id": "6535d2d3",
   "metadata": {},
   "outputs": [
    {
     "name": "stderr",
     "output_type": "stream",
     "text": [
      "<>:4: SyntaxWarning: \"is not\" with a literal. Did you mean \"!=\"?\n",
      "<>:4: SyntaxWarning: \"is not\" with a literal. Did you mean \"!=\"?\n",
      "C:\\Users\\SAMSUNG\\AppData\\Local\\Temp\\ipykernel_23144\\418709231.py:4: SyntaxWarning: \"is not\" with a literal. Did you mean \"!=\"?\n",
      "  if sentence is not '':\n"
     ]
    }
   ],
   "source": [
    "def get_nouns(sentences):\n",
    "    nouns = []\n",
    "    for sentence in sentences:\n",
    "        if sentence is not '':\n",
    "            nouns.append(' '.join([noun for noun in twitter.nouns(str(sentence))\n",
    "                                  if len(noun)>1]))\n",
    "                                \n",
    "            \n",
    "    return nouns"
   ]
  },
  {
   "cell_type": "code",
   "execution_count": 72,
   "id": "db30f227",
   "metadata": {},
   "outputs": [],
   "source": [
    "nouns = get_nouns(sentences)"
   ]
  },
  {
   "cell_type": "code",
   "execution_count": 73,
   "id": "4608dc3b",
   "metadata": {},
   "outputs": [
    {
     "name": "stdout",
     "output_type": "stream",
     "text": [
      "Queue는 한쪽 끝 (rear )에서는 enqueue, 또 다른 끝 (front )에서는 dequeue 연산을 하는 유한 순서 리스트이다.Queue\n"
     ]
    }
   ],
   "source": [
    "print(sentences[0])"
   ]
  },
  {
   "cell_type": "code",
   "execution_count": 74,
   "id": "0ac15ab5",
   "metadata": {},
   "outputs": [
    {
     "name": "stdout",
     "output_type": "stream",
     "text": [
      "한쪽 다른 연산 유한 순서 리스트\n"
     ]
    }
   ],
   "source": [
    "print(nouns[0])"
   ]
  },
  {
   "cell_type": "code",
   "execution_count": 75,
   "id": "e3d0a42c",
   "metadata": {},
   "outputs": [],
   "source": [
    "tfidf = TfidfVectorizer()\n",
    "cnt_vec = CountVectorizer()\n",
    "graph_sentence =[]"
   ]
  },
  {
   "cell_type": "code",
   "execution_count": 76,
   "id": "93102372",
   "metadata": {},
   "outputs": [],
   "source": [
    "def build_sent_graph(sentence):\n",
    "    tfidf_mat = tfidf.fit_transform(sentence).toarray()\n",
    "    graph_sentence = np.dot(tfidf_mat, tfidf_mat.T)\n",
    "    return graph_sentence\n",
    "\n",
    "sent_graph = build_sent_graph(nouns)"
   ]
  },
  {
   "cell_type": "code",
   "execution_count": 77,
   "id": "68197bf0",
   "metadata": {},
   "outputs": [
    {
     "data": {
      "text/plain": [
       "array([[1.        , 0.33318459, 0.        , 0.        , 0.        ,\n",
       "        0.        , 0.        , 0.24506429, 0.        , 0.        ,\n",
       "        0.        , 0.        , 0.        , 0.13771091],\n",
       "       [0.33318459, 1.        , 0.        , 0.        , 0.        ,\n",
       "        0.        , 0.        , 0.        , 0.        , 0.        ,\n",
       "        0.        , 0.        , 0.        , 0.41331715],\n",
       "       [0.        , 0.        , 1.        , 0.        , 0.        ,\n",
       "        0.        , 0.25684549, 0.        , 0.        , 0.        ,\n",
       "        0.        , 0.        , 0.        , 0.        ],\n",
       "       [0.        , 0.        , 0.        , 1.        , 0.        ,\n",
       "        0.        , 0.        , 0.        , 0.        , 0.        ,\n",
       "        0.        , 0.27769034, 0.        , 0.        ],\n",
       "       [0.        , 0.        , 0.        , 0.        , 1.        ,\n",
       "        0.3745748 , 0.34813357, 0.        , 0.11350255, 0.11350255,\n",
       "        0.17829628, 0.08001045, 0.        , 0.        ],\n",
       "       [0.        , 0.        , 0.        , 0.        , 0.3745748 ,\n",
       "        1.        , 0.25926657, 0.        , 0.24126821, 0.24126821,\n",
       "        0.18949893, 0.        , 0.        , 0.        ],\n",
       "       [0.        , 0.        , 0.25684549, 0.        , 0.34813357,\n",
       "        0.25926657, 1.        , 0.        , 0.30921242, 0.30921242,\n",
       "        0.        , 0.        , 0.        , 0.        ],\n",
       "       [0.24506429, 0.        , 0.        , 0.        , 0.        ,\n",
       "        0.        , 0.        , 1.        , 0.        , 0.        ,\n",
       "        0.        , 0.        , 0.        , 0.        ],\n",
       "       [0.        , 0.        , 0.        , 0.        , 0.11350255,\n",
       "        0.24126821, 0.30921242, 0.        , 1.        , 0.28774681,\n",
       "        0.        , 0.        , 0.        , 0.        ],\n",
       "       [0.        , 0.        , 0.        , 0.        , 0.11350255,\n",
       "        0.24126821, 0.30921242, 0.        , 0.28774681, 1.        ,\n",
       "        0.        , 0.        , 0.        , 0.        ],\n",
       "       [0.        , 0.        , 0.        , 0.        , 0.17829628,\n",
       "        0.18949893, 0.        , 0.        , 0.        , 0.        ,\n",
       "        1.        , 0.14039397, 0.30052004, 0.24800575],\n",
       "       [0.        , 0.        , 0.        , 0.27769034, 0.08001045,\n",
       "        0.        , 0.        , 0.        , 0.        , 0.        ,\n",
       "        0.14039397, 1.        , 0.15873507, 0.2541471 ],\n",
       "       [0.        , 0.        , 0.        , 0.        , 0.        ,\n",
       "        0.        , 0.        , 0.        , 0.        , 0.        ,\n",
       "        0.30052004, 0.15873507, 1.        , 0.15814983],\n",
       "       [0.13771091, 0.41331715, 0.        , 0.        , 0.        ,\n",
       "        0.        , 0.        , 0.        , 0.        , 0.        ,\n",
       "        0.24800575, 0.2541471 , 0.15814983, 1.        ]])"
      ]
     },
     "execution_count": 77,
     "metadata": {},
     "output_type": "execute_result"
    }
   ],
   "source": [
    "sent_graph"
   ]
  },
  {
   "cell_type": "code",
   "execution_count": 78,
   "id": "40bb2779",
   "metadata": {},
   "outputs": [],
   "source": [
    "def build_words_graph(sentence):\n",
    "    cnt_vec_mat = normalize(cnt_vec.fit_transform(sentence).toarray().astype(float), axis =0)\n",
    "    vocab = cnt_vec.vocabulary_\n",
    "    return np.dot(cnt_vec_mat.T,cnt_vec_mat),{vocab[word] :word for word in vocab}\n",
    "    words_graph , idx2word = build_words_graph(nouns)\n",
    "                 "
   ]
  },
  {
   "cell_type": "code",
   "execution_count": 79,
   "id": "33460a2a",
   "metadata": {},
   "outputs": [],
   "source": [
    "words_graph = build_words_graph(nouns)"
   ]
  },
  {
   "cell_type": "code",
   "execution_count": 80,
   "id": "700db376",
   "metadata": {},
   "outputs": [
    {
     "data": {
      "text/plain": [
       "(array([[1.        , 0.        , 0.70710678, ..., 0.        , 1.        ,\n",
       "         0.        ],\n",
       "        [0.        , 1.        , 0.70710678, ..., 0.        , 0.        ,\n",
       "         0.        ],\n",
       "        [0.70710678, 0.70710678, 1.        , ..., 0.        , 0.70710678,\n",
       "         0.        ],\n",
       "        ...,\n",
       "        [0.        , 0.        , 0.        , ..., 1.        , 0.        ,\n",
       "         0.        ],\n",
       "        [1.        , 0.        , 0.70710678, ..., 0.        , 1.        ,\n",
       "         0.        ],\n",
       "        [0.        , 0.        , 0.        , ..., 0.        , 0.        ,\n",
       "         1.        ]]),\n",
       " {44: '한쪽',\n",
       "  7: '다른',\n",
       "  29: '연산',\n",
       "  34: '유한',\n",
       "  25: '순서',\n",
       "  13: '리스트',\n",
       "  32: '위치',\n",
       "  5: '기록',\n",
       "  35: '의미',\n",
       "  38: '입력',\n",
       "  10: '데이터',\n",
       "  37: '인덱스',\n",
       "  15: '마지막',\n",
       "  12: '라면',\n",
       "  36: '이상',\n",
       "  30: '원소',\n",
       "  27: '에러',\n",
       "  19: '발생',\n",
       "  8: '다음',\n",
       "  22: '빼낼',\n",
       "  20: '방식',\n",
       "  14: '리턴',\n",
       "  24: '삭제',\n",
       "  26: '순차',\n",
       "  42: '표현',\n",
       "  18: '문제점',\n",
       "  41: '크기',\n",
       "  21: '배열',\n",
       "  23: '사용',\n",
       "  17: '문제',\n",
       "  45: '해결',\n",
       "  33: '위해',\n",
       "  31: '원형',\n",
       "  2: '고안',\n",
       "  43: '하나',\n",
       "  40: '증가',\n",
       "  0: '가득',\n",
       "  3: '공간',\n",
       "  16: '메모리',\n",
       "  46: '활용',\n",
       "  4: '구현',\n",
       "  39: '제한',\n",
       "  9: '단점',\n",
       "  1: '개선',\n",
       "  28: '연결',\n",
       "  6: '내부',\n",
       "  11: '동작'})"
      ]
     },
     "execution_count": 80,
     "metadata": {},
     "output_type": "execute_result"
    }
   ],
   "source": [
    "words_graph"
   ]
  },
  {
   "cell_type": "code",
   "execution_count": 81,
   "id": "d2ee11e0",
   "metadata": {},
   "outputs": [],
   "source": [
    "def get_ranks(graph, d =0.85):   #d =단어사이간 유사한것과 따라갈 확률\n",
    "    A=graph\n",
    "    matrix_size = A.shape[0]\n",
    "    for id in range(matrix_size):\n",
    "        A[id,id]=0\n",
    "        link_sum = np.sum(A[:,id])\n",
    "        if link_sum != 0:\n",
    "            A[:,id] /= link_sum\n",
    "        A[:,id] *= -d\n",
    "        A[id,id]= 1\n",
    "        \n",
    "    B = (1-d) * np.ones((matrix_size,1))\n",
    "    \n",
    "    ranks = np.linalg.solve(A,B)\n",
    "    return {idx: r[0] for idx , r in enumerate(ranks)}"
   ]
  },
  {
   "cell_type": "code",
   "execution_count": 82,
   "id": "0e7cca2b",
   "metadata": {},
   "outputs": [],
   "source": [
    "sent_rank_idx = get_ranks(sent_graph)\n"
   ]
  },
  {
   "cell_type": "code",
   "execution_count": 83,
   "id": "8e9682b4",
   "metadata": {},
   "outputs": [
    {
     "data": {
      "text/plain": [
       "{0: 1.0631930798658464,\n",
       " 1: 1.000421817470008,\n",
       " 2: 0.3750676041031084,\n",
       " 3: 0.45458621541044386,\n",
       " 4: 1.2303589706085738,\n",
       " 5: 1.3042152564134653,\n",
       " 6: 1.5285045955109324,\n",
       " 7: 0.4593303058150262,\n",
       " 8: 0.9744599285469528,\n",
       " 9: 0.9744599285469527,\n",
       " 10: 1.1992349442792072,\n",
       " 11: 1.1755413991797288,\n",
       " 12: 0.7784837892601485,\n",
       " 13: 1.4821421649896036}"
      ]
     },
     "execution_count": 83,
     "metadata": {},
     "output_type": "execute_result"
    }
   ],
   "source": [
    "sent_rank_idx"
   ]
  },
  {
   "cell_type": "code",
   "execution_count": 84,
   "id": "e4b93ead",
   "metadata": {},
   "outputs": [],
   "source": [
    "sorted_sent_rank_idx = sorted(sent_rank_idx , key = lambda k : sent_rank_idx[k] , reverse=True)"
   ]
  },
  {
   "cell_type": "code",
   "execution_count": 85,
   "id": "2c6f05d8",
   "metadata": {},
   "outputs": [
    {
     "data": {
      "text/plain": [
       "[6, 13, 5, 4, 10, 11, 0, 1, 8, 9, 12, 7, 3, 2]"
      ]
     },
     "execution_count": 85,
     "metadata": {},
     "output_type": "execute_result"
    }
   ],
   "source": [
    "sorted_sent_rank_idx"
   ]
  },
  {
   "cell_type": "code",
   "execution_count": 86,
   "id": "938c27e3",
   "metadata": {},
   "outputs": [
    {
     "ename": "AttributeError",
     "evalue": "'tuple' object has no attribute 'shape'",
     "output_type": "error",
     "traceback": [
      "\u001b[1;31m---------------------------------------------------------------------------\u001b[0m",
      "\u001b[1;31mAttributeError\u001b[0m                            Traceback (most recent call last)",
      "\u001b[1;32m~\\AppData\\Local\\Temp\\ipykernel_23144\\1229221335.py\u001b[0m in \u001b[0;36m<module>\u001b[1;34m\u001b[0m\n\u001b[1;32m----> 1\u001b[1;33m \u001b[0mword_rank_idx\u001b[0m \u001b[1;33m=\u001b[0m \u001b[0mget_ranks\u001b[0m\u001b[1;33m(\u001b[0m\u001b[0mwords_graph\u001b[0m\u001b[1;33m)\u001b[0m\u001b[1;33m\u001b[0m\u001b[1;33m\u001b[0m\u001b[0m\n\u001b[0m\u001b[0;32m      2\u001b[0m \u001b[0msorted_word_rank_idx\u001b[0m \u001b[1;33m=\u001b[0m \u001b[0msorted\u001b[0m\u001b[1;33m(\u001b[0m\u001b[0mword_rank_idx\u001b[0m \u001b[1;33m,\u001b[0m \u001b[0mkey\u001b[0m\u001b[1;33m=\u001b[0m\u001b[1;32mlambda\u001b[0m \u001b[0mk\u001b[0m \u001b[1;33m:\u001b[0m \u001b[0mword_rank_idx\u001b[0m\u001b[1;33m[\u001b[0m\u001b[0mk\u001b[0m\u001b[1;33m]\u001b[0m\u001b[1;33m,\u001b[0m \u001b[0mreverse\u001b[0m \u001b[1;33m=\u001b[0m \u001b[1;32mTrue\u001b[0m\u001b[1;33m)\u001b[0m\u001b[1;33m\u001b[0m\u001b[1;33m\u001b[0m\u001b[0m\n",
      "\u001b[1;32m~\\AppData\\Local\\Temp\\ipykernel_23144\\2092317833.py\u001b[0m in \u001b[0;36mget_ranks\u001b[1;34m(graph, d)\u001b[0m\n\u001b[0;32m      1\u001b[0m \u001b[1;32mdef\u001b[0m \u001b[0mget_ranks\u001b[0m\u001b[1;33m(\u001b[0m\u001b[0mgraph\u001b[0m\u001b[1;33m,\u001b[0m \u001b[0md\u001b[0m \u001b[1;33m=\u001b[0m\u001b[1;36m0.85\u001b[0m\u001b[1;33m)\u001b[0m\u001b[1;33m:\u001b[0m\u001b[1;33m\u001b[0m\u001b[1;33m\u001b[0m\u001b[0m\n\u001b[0;32m      2\u001b[0m     \u001b[0mA\u001b[0m\u001b[1;33m=\u001b[0m\u001b[0mgraph\u001b[0m\u001b[1;33m\u001b[0m\u001b[1;33m\u001b[0m\u001b[0m\n\u001b[1;32m----> 3\u001b[1;33m     \u001b[0mmatrix_size\u001b[0m \u001b[1;33m=\u001b[0m \u001b[0mA\u001b[0m\u001b[1;33m.\u001b[0m\u001b[0mshape\u001b[0m\u001b[1;33m[\u001b[0m\u001b[1;36m0\u001b[0m\u001b[1;33m]\u001b[0m\u001b[1;33m\u001b[0m\u001b[1;33m\u001b[0m\u001b[0m\n\u001b[0m\u001b[0;32m      4\u001b[0m     \u001b[1;32mfor\u001b[0m \u001b[0mid\u001b[0m \u001b[1;32min\u001b[0m \u001b[0mrange\u001b[0m\u001b[1;33m(\u001b[0m\u001b[0mmatrix_size\u001b[0m\u001b[1;33m)\u001b[0m\u001b[1;33m:\u001b[0m\u001b[1;33m\u001b[0m\u001b[1;33m\u001b[0m\u001b[0m\n\u001b[0;32m      5\u001b[0m         \u001b[0mA\u001b[0m\u001b[1;33m[\u001b[0m\u001b[0mid\u001b[0m\u001b[1;33m,\u001b[0m\u001b[0mid\u001b[0m\u001b[1;33m]\u001b[0m\u001b[1;33m=\u001b[0m\u001b[1;36m0\u001b[0m\u001b[1;33m\u001b[0m\u001b[1;33m\u001b[0m\u001b[0m\n",
      "\u001b[1;31mAttributeError\u001b[0m: 'tuple' object has no attribute 'shape'"
     ]
    }
   ],
   "source": [
    "word_rank_idx = get_ranks(words_graph)\n",
    "sorted_word_rank_idx = sorted(word_rank_idx , key=lambda k : word_rank_idx[k], reverse = True)"
   ]
  },
  {
   "cell_type": "code",
   "execution_count": 90,
   "id": "f360a0c7",
   "metadata": {},
   "outputs": [],
   "source": [
    "def summarize(sent_num = 2):\n",
    "    summary = []\n",
    "    index = []\n",
    "    for idx in sorted_sent_rank_idx[:sent_num]:\n",
    "        index.append(idx)\n",
    "    index.sort()\n",
    "    \n",
    "    for idx in index:\n",
    "        summary.append(sentences[idx])\n",
    "        \n",
    "    for text in summary:\n",
    "        print(text)\n",
    "        print(\"\\n\")"
   ]
  },
  {
   "cell_type": "code",
   "execution_count": 91,
   "id": "c30f9ddb",
   "metadata": {},
   "outputs": [
    {
     "name": "stdout",
     "output_type": "stream",
     "text": [
      "큐가 비었다면 (rear == front) 빼낼 원소가 없기에 에러를 발생시키고 deque 할 원소를 기록할 front를 1 더해 준다.deque\n",
      "\n",
      "\n",
      "한 정된 크기를 개선하기 위해 연결 리스트 큐 고안. 연결 리스트 표현으로 바뀌었지만 내부 동작은 순차 표현 큐와 비슷하다.\n",
      "\n",
      "\n"
     ]
    }
   ],
   "source": [
    "summarize()"
   ]
  },
  {
   "cell_type": "code",
   "execution_count": null,
   "id": "d656b18f",
   "metadata": {},
   "outputs": [],
   "source": []
  }
 ],
 "metadata": {
  "kernelspec": {
   "display_name": "Python 3 (ipykernel)",
   "language": "python",
   "name": "python3"
  },
  "language_info": {
   "codemirror_mode": {
    "name": "ipython",
    "version": 3
   },
   "file_extension": ".py",
   "mimetype": "text/x-python",
   "name": "python",
   "nbconvert_exporter": "python",
   "pygments_lexer": "ipython3",
   "version": "3.9.16"
  }
 },
 "nbformat": 4,
 "nbformat_minor": 5
}
