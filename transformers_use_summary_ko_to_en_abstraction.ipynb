{
 "cells": [
  {
   "cell_type": "code",
   "execution_count": 1,
   "id": "effbc86c",
   "metadata": {},
   "outputs": [],
   "source": [
    "from transformers import AutoTokenizer, AutoModelForSeq2SeqLM"
   ]
  },
  {
   "cell_type": "code",
   "execution_count": 2,
   "id": "49a786c1",
   "metadata": {},
   "outputs": [
    {
     "data": {
      "application/vnd.jupyter.widget-view+json": {
       "model_id": "84066537ffbb409b8046fef059903755",
       "version_major": 2,
       "version_minor": 0
      },
      "text/plain": [
       "Downloading:   0%|          | 0.00/44.0 [00:00<?, ?B/s]"
      ]
     },
     "metadata": {},
     "output_type": "display_data"
    },
    {
     "data": {
      "application/vnd.jupyter.widget-view+json": {
       "model_id": "9b81eaf2983749c287cd8556c46c047f",
       "version_major": 2,
       "version_minor": 0
      },
      "text/plain": [
       "Downloading:   0%|          | 0.00/1.36k [00:00<?, ?B/s]"
      ]
     },
     "metadata": {},
     "output_type": "display_data"
    },
    {
     "data": {
      "application/vnd.jupyter.widget-view+json": {
       "model_id": "4212282118864ddabe71a08d77dfa2bc",
       "version_major": 2,
       "version_minor": 0
      },
      "text/plain": [
       "Downloading:   0%|          | 0.00/822k [00:00<?, ?B/s]"
      ]
     },
     "metadata": {},
     "output_type": "display_data"
    },
    {
     "data": {
      "application/vnd.jupyter.widget-view+json": {
       "model_id": "35e309ce14204e37ae28d0f9846681f9",
       "version_major": 2,
       "version_minor": 0
      },
      "text/plain": [
       "Downloading:   0%|          | 0.00/794k [00:00<?, ?B/s]"
      ]
     },
     "metadata": {},
     "output_type": "display_data"
    },
    {
     "data": {
      "application/vnd.jupyter.widget-view+json": {
       "model_id": "8aeb23f8857248e4b69e27cbd835c735",
       "version_major": 2,
       "version_minor": 0
      },
      "text/plain": [
       "Downloading:   0%|          | 0.00/1.64M [00:00<?, ?B/s]"
      ]
     },
     "metadata": {},
     "output_type": "display_data"
    },
    {
     "data": {
      "application/vnd.jupyter.widget-view+json": {
       "model_id": "a3387001a6bd4e6d9a8e37f2f7307212",
       "version_major": 2,
       "version_minor": 0
      },
      "text/plain": [
       "Downloading:   0%|          | 0.00/298M [00:00<?, ?B/s]"
      ]
     },
     "metadata": {},
     "output_type": "display_data"
    }
   ],
   "source": [
    "# 모델과 토크나이저 로드\n",
    "tokenizer = AutoTokenizer.from_pretrained(\"Helsinki-NLP/opus-mt-ko-en\")\n",
    "model = AutoModelForSeq2SeqLM.from_pretrained(\"Helsinki-NLP/opus-mt-ko-en\")"
   ]
  },
  {
   "cell_type": "code",
   "execution_count": 20,
   "id": "378a3bb5",
   "metadata": {},
   "outputs": [
    {
     "ename": "SyntaxError",
     "evalue": "invalid syntax (148927483.py, line 2)",
     "output_type": "error",
     "traceback": [
      "\u001b[1;36m  File \u001b[1;32m\"C:\\Users\\SAMSUNG\\AppData\\Local\\Temp\\ipykernel_10192\\148927483.py\"\u001b[1;36m, line \u001b[1;32m2\u001b[0m\n\u001b[1;33m    input_text = \"Python - 속성 사용하기 mmm.junjoy.log 로그인 mmm.junjoy.log 로그인 Python - 속성 사용하기 sjb2010·2023년 1월 16일 0 python 0 Python 목록 보기 1/6 클래스에서 속성을 만들고 사용해보자 속성을 만들 때는 __init__ 메서드 안에서 self.속성에 값을 할당한다. 기본) class 클래스이름: def__init__(self): self.속성 = 값 예1) class Person: def__init__(self): self.hello = '안녕하세요.' def greeting(self) print(self.hello) james=person() james.greeting() 실행결과 : 안녕하세요. 예1 설명) Person 클래스의 init 메서드에서 self.hello에 '안녕하세요.'인사말을 넣었다. class Person: def __init__(self): self.hello = '안녕하세요.' init 메서드는 james = Person() 처럼 클래스에 () 를 붙여서 인스턴스를 만들때 호출되는 특별한 메서드 이다. 즉 , init 이라는 이름 그대로 인스턴스를 초기화한다. 특히 , 이렇게 앞 뒤로 __(밑줄두개) 가 붙은 메서드는 파이썬이 자동으로 호출해주는 메서드인데 스페셜 메서드 또는 매직 메서드 라고 부릅니다. 앞으로 파이썬의 여러가지 기능을 사용할때 이 스페셜 메서드를 채우는 식으로 사용하게 된다. 이제 greeting 메서드를 살펴보자. greeting 메서드에서는 print로 self.hello를 출력하도록 만들었다. def greeting(self): print(self.hello) 그 다음에 Person 클래스로 인스턴스를 만들고 , greeting 메서드를 호출해보면 self.hello 에 저장된 '안녕하세요.' 가 출력된다. james = Person() james.greeting() # 안녕하세요. 지금까지 init 메서드에서 속성을 만들고 greetig 메서드에서 속성을 사용해보았다. 속성은 init 메서드에서 만든다는 점과 self에 .을 붙인 뒤 값을 할당한다는 점이 중요하다. 클래스 안에서 속성을 사용할 때도 self.hello처럼 self에 점을 붙여서 사용하면 된다. self의 의미 도대체 self는 무엇일까. self는 인스턴스 자기 자신을 의미한다. 우리는 인스턴스가 생성될 때 self.hello = '안녕하세요 ' 처럼 자기 자신에 속성을 추가했다. 여기서 init 의 매겨변수 self에 들어가는 값은 Person()이라 할 수 있다 . 그리고 self가 완성된 뒤 james에 할당된다. 이후 메서드를 호출하면 현재 인스턴스가 자동으로 매개변수 self에 들어온다. 그래서 greeting 메서드에서 pring(self.hello) 처럼 속성을 출력할 수 있는 것이다. 인스턴스와 self의 관계를 그림으로 나타내면 다음과 같다. 지금까지 만든 클래스는 인사만 할 줄 아는 단순한 클래스이다. 클래스로 인스턴스를 만들어봐야 다 똑같이 '안녕하세요'만 출력할 뿐이다. 인스턴스를 만들 때 값 받기 이번에는 클래스로 인스턴스를 만들 때 값을 받는 방법을 알아보겠다. 다음과 같이 init 메서드에서 self다음에 값을 받을 매개변수를 지정한다. 그리고 매겨변수를 self.속성 에 넣어준다. class 클래스이름: def __init__(self, 매개변수1, 매개변수2): self.속성1 = 매개변수1 self.속성2 = 매개변수2 그럼 Person 클래스로 인스턴스를 만들 때 이름,나이,주소를 받아보겠다. class Person: def __init__(self, name, age, address): self.hello = '안녕하세요.' self.name = name self.age = age self.address = address def greeting(self): print('{0} 저는 {1}입니다.'.format(self.hello, self.name)) maria = Person('마리아', 20, '서울시 서초구 반포동') maria.greeting() # 안녕하세요. 저는 마리아입니다. print('이름:', maria.name) # 마리아 print('나이:', maria.age) # 20 print('주소:', maria.address) # 서울시 서초구 반포동 실행결과 안녕하세요. 저는 마리아입니다. 이름: 마리아 나이: 20 주소: 서울시 서초구 반포동 init 메서드를 보면 self 다음에 name,age,address 를 지정했다. 그리고 메서드 안에서는 self.name = name 처럼 매개변수를 그대로 self에 넣어서 속성으로 만들었다. def __init__(self, name, age, address): self.hello = '안녕하세요.' self.name = name self.age = age self.address = address greeting 메서드는 인사를 하고 이름을 출력하도록 수정했다. 물론 name 속성에 접근할때는 self.name처럼 사용해야한다. def greeting(self): print('{0} 저는 {1}입니다.'.format(self.hello, self.name)) 이제 Person의 () 안에 이름,나이,주소를 콤마로 구분해서 넣은 뒤에 변수에 할당한다. 이렇게 하면 이름은 '마리아' , 나이는 20, 주소는 '서울시 서초구 반포동' 인 maria 인스턴스가 만들어진다. maria = Person('마리아', 20, '서울시 서초구 반포동') 즉 , 다음과 같이 Person 의 괄호 안에 넣은 값은 init 메서드에서 self 뒤에 있는 매겨변수에 차례대로 들어간다. maria 인스턴스의 greeting 메서드를 호출해보면 '안녕하세요. 저는 마리아입니다' 처럼 인삿말과 함께 이름도 출력이 된다. maria.greeting() # 안녕하세요. 저는 마리아입니다. 클래스 안에서 속성에 접근할 때는 self.속성 이었다. 클래스 바깥에서 속성에 접근 할 때는 인스턴스.속성 형식으로 접근한다. 다음과 같이 maria.name ,maria.age , maria.address 의 값을 출력해 보면 Person으로 인스턴스를 만들 때 넣었던 값이 출력된다. print('이름:', maria.name) # 마리아 print('나이:', maria.age) # 20 print('주소:', maria.address) # 서울시 서초구 반포동 이렇게 인스턴스를 통해 접근하는 속성을 인스턴스 속성이이라고 한다. 실제 업무에서 적용해보기) SOURCE = 'KRX-TRACKING-ERROR-RATE' JOB = 'EXTRACT' TODAY = datetime.now().strftime(\"%Y-%m-%d\") DATATODAY = (datetime.now() - timedelta(days=1)).strftime(\"%Y%m%d\") class MongoTemplate: def __init__(self,target, data) -> None: self.date = TODAY self.source = SOURCE self.target = target self.job = JOB self.data = data 위 코드를 분석해보면 ,self 뒤의 target,data(매겨변수) 가 self.속성에 값으로 들어가있다. 추가로 위의 SOURCE ,JOB , TODAY 도 self.속성에 들어갔다. 참고자료 https://dojang.io/mod/page/view.php?id=2373 이상으로 Python- 속성 사용하기를 마치도록 하겠습니다. 더 나은 개발이 되길 바라며:) 심준보 develope / exercise / fashion 다음 포스트 Python - 예외 처리 사용하기 0개의 댓글 댓글 작성 Python - 예외 처리 사용하기 mmm.junjoy.log 로그인 mmm.junjoy.log 로그인 Python - 예외 처리 사용하기 sjb2010·2023년 1월 16일 0 python 0 Python 목록 보기 2/6 Python - 예외 처리 사용하기 예외(exception)란 코드를 실행하는 중에 발생한 에러를 뜻합니다. 예1) def ten_div(x): return 10/x 위 함수에 2를 넣을 경우 >>> ten_div(2) 5.0 하지만 , 0을 넣을 경우 실행 중 에러가 발생한다. 이런 상황을 예외라고 하는데 여기서는 어떤 숫자를 0으로 나누어서 ZeroDivisionError 예외가 발생했다. >>> ten_div(0) Traceback (most recent call last): File \"\", line 1, in ten_div(0) File \"\", line 2, in ten_div return 10 / x ZeroDivisionError: division by zero 이번에는 예외가 발생했을 때도 스크립트 실행을 중단하지 않고 계속 실행하게 해주는 예외 처리 방법에 대해 알아보겠다. try except 사용하기 예외 처리를 하려면 다음과 같이 try에 실행할 코드를 넣고 except에 예외가 발생했을 떄 처리하는 코드를 넣습니다. try: 실행할 코드 except: 예외가 발생했을때 처리하는 코드 예2) try: x = int(input('나눌 숫자를 입력하세요: )) y = 10/x print(y) except: print('예외가 발생하였습니다.') 위 소스코드를 실행한 뒤 0을 입력하면 , 나눌 숫자를 입력하세요: 0 (입력) 예외가 발생했습니다. 위 상황처럼 결과가 나오게 된다. 특정 예외만 처리하기 이번에는 except에 예외. 이름을 지정해서 특정 예외가 발생했을 때만 처리코드를 실행하도록 만들어보자. try: 실행할 코드 except 예외이름: 예외가 발생했을 때 처리하는 코드 예 3) 정수를 2개를 입력받아서 하나는 리스트의 인덱스로 사용하고 , 하나는 나누는 값으로 사용한다. 그리고 except를 두개 사용하고 가각 ZeroDivisionError와 IndexError로 지정한다. y = [10, 20, 30] try: index, x = map(int, input('인덱스와 나눌 숫자를 입력하세요: ').split()) print(y[index] / x) except ZeroDivisionError: # 숫자를 0으로 나눠서 에러가 발생했을 때 실행됨 print('숫자를 0으로 나눌 수 없습니다.') except IndexError: # 범위를 벗어난 인덱스에 접근하여 에러가 발생했을 때 실행됨 print('잘못된 인덱스입니다.') 상황 1 ) 소스 코드를 실행한 뒤 2 0을 입력해보자 인덱스와 나눌 숫자를 입력하세요: 2 0 (입력) 숫자를 0으로 나눌 수 없습니다. 2 0을 입력하게 되면 30/0이 되므로 숫자를 0으로 나누게 된다. 이때는 except ZeroDivisionError:의 처리 코드가 실행된다. 상황 2 ) 이번엔 소스 코드에 3 5를 입력해보자 인덱스와 나눌 숫자를 입력하세요: 3 5 (입력) 잘못된 인덱스입니다. 그럼 결과가 , 인덱스와 나눌 숫자를 입력하세요: 3 5 (입력) 잘못된 인덱스입니다. 이렇게 나오게 된다. 이유는 y에는 3개의 요소가 들어있는 리스트이다 . 따라서 인덱스 3을 넘어가면 예외처리 코드가 실행된다. 예외의 에러 메시지 받아오기 except에서 as 뒤에 변수를 지정하면 발생한 예외의 에러 메세지를 받아올 수 있다. try: 실행할 코드 except 예외 as 변수: 예외가 발생했을 때 처리하는 코드 위 코드의 except에 as e를 넣어보자 . 보통 예외(exception)의 e를 따서 변수이름을 e로 짓는다. 예 4) y = [10, 20, 30] try: index, x = map(int, input('인덱스와 나눌 숫자를 입력하세요: ').split()) print(y[index] / x) except ZeroDivisionError as e: # as 뒤에 변수를 지정하면 에러를 받아옴 print('숫자를 0으로 나눌 수 없습니다.', e) # e에 저장된 에러 메시지 출력 except IndexError as e: print('잘못된 인덱스입니다.', e) 상황 3) 인덱스와 나눌 숫자를 입력하세요: 2 0 (입력) 숫자를 0으로 나눌 수 없습니다. division by zero 상황 4) 인덱스와 나눌 숫자를 입력하세요: 3 5 (입력) 잘못된 인덱스입니다. list index out of range 이렇게 해당 예외에 해당하는 에러 메시지가 출력된다. 단 , 예외가 여러 개 발생하더라도 먼저 발생한 예외의 처리 코드만 실행된다. 참고로 , 모든 예외의 에러 메시지를 출력하고 싶다면 다음과 같이 except에 Exception을 지정하고 as 뒤에 변수를 넣으면 된다. except Exception as e: # 모든 예외의 에러 메시지를 출력할 때는 Exception을 사용 print('예외가 발생했습니다.', e) 이처럼 예외 처리는 에러가 발생하더라도 스크립트의 실행을 중단시키지 않고 계속 실행하고자 할 때 사용합니다. 파이썬 예외 계층도 전체 계층도는 파이썬 공식 문서를 참조하세요. Built-in Exceptions: https://docs.python.org/3/library/exceptions.html#exception-hierarchy 이상으로 Python - 예외 처리하기를 마무리하도록 하겠습니다. 더 나은 개발이 되길 바라며:) 심준보 develope / exercise / fashion 이전 포스트 Python - 속성 사용하기 다음 포스트 Python - logging 0개의 댓글 댓글 작성 Python - logging mmm.junjoy.log 로그인 mmm.junjoy.log 로그인 Python - logging sjb2010·2023년 1월 16일 0 python 0 Python 목록 보기 3/6 logging — 파이썬 로깅 시설 이 모듈은 응용 프로그램과 라이브러리를 위한 유연한 이벤트 로깅 시스템을 구현하는 함수와 클래스를 정의한다. 표준 라이브러리 모듈로 로깅 API를 제공하는 것의 주요 이점은, 모든 파이썬 모듈이 로깅에 참여할 수 있어서, 응용 프로그램 로그에 여러분 자신의 메세지를 제삼자 모듈의 메시지와 통합할 수 있다는 것이다. The Simple example) >>> import logging >>> logging.warning('Watch out!') WARNING:root:Watch out! Logger 객체 로거에는 다음과 같은 어트리뷰트와 메서드가 있다. 로거는 결코 직접 인스턴스를 만드는 일 없이, 항상 모듈 수준의 함수 logging.getLogger(name) 를 거치는 것에 주의해야한다. 같은 이름(name)으로 getLogger() 를 여러 번 호출해도 항상 같은 로거 객체에 대한 참조를 돌려준다. 실제 사용 예시 import os, pymongo, requests, json, logging ,time logger = logging.getLogger('uvicorn') 위 코드는 현재 진행하고 있는 프로젝트에 쓰인 간단한 로그 코드이다. https://docs.python.org/ko/3/library/logging.html#module-logging 더 자세한 사항은 위 주소를 참고하길 바랍니다. 이상으로 logging에 대한 기본적인 개념을 마치겠습니다. 더 나은 개발이 되길 바라며:) 심준보 develope / exercise / fashion 이전 포스트 Python - 예외 처리 사용하기 다음 포스트 [Python] FastAPI의 APIRouter 0개의 댓글 댓글 작성 [Python] FastAPI의 APIRouter mmm.junjoy.log 로그인 mmm.junjoy.log 로그인 [Python] FastAPI의 APIRouter sjb2010·2023년 1월 16일 0 python 0 Python 목록 보기 4/6 APIRouter 애플리케이션이나 웹 API를 빌드하는 경우 모든 코드를 하나의 파일에 넣는 경우는 드물다. APIRouter는 FastAPI에서 여러 개의 파일을 통해 프로젝트 구조를 구성하여 더 큰 애플리케이션을 만들 수 있도록 하는 도구다. importAPIRouter FastaPI 클래스와 같은 방식으로 가져와서 인스턴스를 생성한다. APIRouter 도구를 사용하기 위한 기본 세팅이다. from fastapi import APIRouter router = APIRouter() 경로 연산(path operations) 이어서 하는걸로 합시다. https://scshim.tistory.com/575 심준보 develope / exercise / fashion 이전 포스트 Python - logging 다음 포스트 Python 가상환경 - mac 0개의 댓글 댓글 작성 Python 가상환경 - mac mmm.junjoy.log 로그인 mmm.junjoy.log 로그인 Python 가상환경 - mac sjb2010·2023년 1월 25일 0 python 0 Python 목록 보기 5/6 [pyhton] - 가상환경 mac 윈도우를 사용하다 mac을 사용하면서 가상환경 세팅 방법에 대해 다시 알아보았다. 차근차근 설명을 진행할테니 잘 따라와주시길 바랍니다. 1. 먼저 , cmd 창을 켜줍니다. 이렇게 생긴 귀여운 아이콘을 클릭하면 실행이 됩니다:) 혹시나 못찾을 경우는 command - space 를 동시에 클릭을 한 뒤 , '터미널' 이라고 입력을 하게 되면 실행이 가능합니다. 2. 가상환경을 실행시키기 위한 모듈을 설치해줍니다. $ pip install virtualenv virtualenvwrapper #python2 $ pip3 install virtualenv virtualenvwrapper #python3 위의 두가지 명령어의 차이는 자신의 python 버전이 2 ,3 의 차이입니다. 여기서 자신의 python 버전을 알고 싶을 떄 사용하는 명령어를 말씀드리자면 , pyhton -v pyhton3 -v 위 둘 중 하나의 명령어를 입력하면 자신의 버전이 무엇인지 정확하게 알 수 있습니다. 3. 다음으로는 , 가상환경을 실행할 폴더(경로)를 설정하는 것입니다. 여기서 새로운 폴더를 생성한 뒤 가상환경을 실행시키는 것을 추천합니다. 1. cd desktop ## desktop으로 이동 2. mkdir 만들고자 하는 폴더명 ## rmdir 삭제하고자 하는 폴더명 위의 1,2 번 방법을 이용한다면 폴더를 생성할 수 있습니다. 추가로 아래의 rmdir 명령어를 사용한다면 자신이 지우고자하는 폴더를 손쉽게 삭제할 수 있습니다. 4. 이렇게 된다면 , 이제 세팅이 거의 완료됬다고 볼 수 있습니다. 이제 아래의 명령어를 사용한다면 가상환경이 만들어집니다. $ python3 -m virtualenv --python='위에서 설명한 자신의 정확한 파이썬 버전' '자신이 새로 생성한 폴더명' 여기서 '' 는 구분을 위한 것이니 실제로 명령어를 입력할때는 빼고 써주시면 됩니다. 위의 파이썬 버전이라고 하는 것은 예로 3.11.1 과 같은 것을 말합니다. 5. 이제 마지막으로 가상환경 실행입니다. $ source 'your venv name'/bin/activate 위의 명령어를 입력까지 마치게 되면 , 가상환경이 실행이 됩니다. 실행될 시 화면 , 이런식으로 앞에 자신의 폴더명과 함께 () 표시가 추가된다. flow는 폴더명 이상으로 가상환경 셋팅에 대한 방법 설명이 끝이났습니다. 감사합니다 . 더 나은 개발이 되길 바라며 :) 심준보 develope / exercise / fashion 이전 포스트 [Python] FastAPI의 APIRouter 다음 포스트 Python-mysql data 불러오기 0개의 댓글 댓글 작성 Python-mysql data 불러오기 mmm.junjoy.log 로그인 mmm.junjoy.log 로그인 Python-mysql data 불러오기 sjb2010·2023년 1월 30일 0 python 0 Python 목록 보기 6/6 Python-mysql data 불러오기 python 을 이용하여 mysql 에 적재된 데이터를 불러오는 방법이다. 1. 모듈을 설치해주자 import pymysql 2. DB를 연결해주자 # 예시 dbog= pymysql.connect(host=\"10.1**.*.***\",port=***,user=\"**\",passwd=\"**_!23$\",db=\"scrap_krx\", charset='utf8') 위에 있는 파라미터에 맞게 자신이 연결시키고자 하는 db의 정보를 기입해주면 연결이 된다. 3. 직접 데이터를 다룰수 있는 함수 cursor 이용하기. con = dbog.cursor() 이제 con 변수는 dbog에 연결되어있는 db의 데이터를 자유자제로 다룰 수 있다 4. execute를 이용하여 실행을 해보자. con.execute(\"\"SELECT * FROM listed_issue\") #() 사이에 sql문 적어주기 이렇게 하게 되면 sql문에 맞게 데이터가 추출이 된다. 5. fetchall() 이용 rows = con.fetchall() 커서의 fetchall() 메서드는 모든 데이타를 한꺼번에 클라이언트로 가져올 때 사용된다. 여기까지 하게 되면 , 데이터를 가져오고 조작할 준비는 마쳤다고 볼 수 있다. 기본이니 , 잘 숙지하고 사용한다면 , db를 연결하고 data를 가져오는 것은 잘 진행할 수 있을것이다. 이상으로 python mysql-data불러오기를 마치도록 하겠습니다 . 감사합니다. 더 나은 개발이 되길 바라며 :) 심준보 develope / exercise / fashion 이전 포스트 Python 가상환경 - mac 0개의 댓글 댓글 작성\"\u001b[0m\n\u001b[1;37m                                                                                                                                                                                                                                                                                                                                                                                                                                                                                                                                                                                                                                                                                                                                                                                                                                                                                                                                                                                                                                                                                                                                                                                                                                                                                                                                                                                                                                                                                                                                                                                                                                                                                                                                                                                                                                                                                                                                                                                                                                                                                                                                                                                                                                                                                                                                                                                                                                                                                                                                                                                                                                                                                                                                                                                                                                                                                                                                                                                                                                                                                                                                                                                                                                                                                                                                                                                                                                                                                    ^\u001b[0m\n\u001b[1;31mSyntaxError\u001b[0m\u001b[1;31m:\u001b[0m invalid syntax\n"
     ]
    }
   ],
   "source": [
    "# 요약할 텍스트 입력\n",
    "input_text = \"Python - 속성 사용하기 mmm.junjoy.log 로그인 mmm.junjoy.log 로그인 Python - 속성 사용하기 sjb2010·2023년 1월 16일 0 python 0 Python 목록 보기 1/6 클래스에서 속성을 만들고 사용해보자 속성을 만들 때는 __init__ 메서드 안에서 self.속성에 값을 할당한다. 기본) class 클래스이름: def__init__(self): self.속성 = 값 예1) class Person: def__init__(self): self.hello = '안녕하세요.' def greeting(self) print(self.hello) james=person() james.greeting() 실행결과 : 안녕하세요. 예1 설명) Person 클래스의 init 메서드에서 self.hello에 '안녕하세요.'인사말을 넣었다. class Person: def __init__(self): self.hello = '안녕하세요.' init 메서드는 james = Person() 처럼 클래스에 () 를 붙여서 인스턴스를 만들때 호출되는 특별한 메서드 이다. 즉 , init 이라는 이름 그대로 인스턴스를 초기화한다. 특히 , 이렇게 앞 뒤로 __(밑줄두개) 가 붙은 메서드는 파이썬이 자동으로 호출해주는 메서드인데 스페셜 메서드 또는 매직 메서드 라고 부릅니다. 앞으로 파이썬의 여러가지 기능을 사용할때 이 스페셜 메서드를 채우는 식으로 사용하게 된다. 이제 greeting 메서드를 살펴보자. greeting 메서드에서는 print로 self.hello를 출력하도록 만들었다. def greeting(self): print(self.hello) 그 다음에 Person 클래스로 인스턴스를 만들고 , greeting 메서드를 호출해보면 self.hello 에 저장된 '안녕하세요.' 가 출력된다. james = Person() james.greeting() # 안녕하세요. 지금까지 init 메서드에서 속성을 만들고 greetig 메서드에서 속성을 사용해보았다. 속성은 init 메서드에서 만든다는 점과 self에 .을 붙인 뒤 값을 할당한다는 점이 중요하다. 클래스 안에서 속성을 사용할 때도 self.hello처럼 self에 점을 붙여서 사용하면 된다. self의 의미 도대체 self는 무엇일까. self는 인스턴스 자기 자신을 의미한다. 우리는 인스턴스가 생성될 때 self.hello = '안녕하세요 ' 처럼 자기 자신에 속성을 추가했다. 여기서 init 의 매겨변수 self에 들어가는 값은 Person()이라 할 수 있다 . 그리고 self가 완성된 뒤 james에 할당된다. 이후 메서드를 호출하면 현재 인스턴스가 자동으로 매개변수 self에 들어온다. 그래서 greeting 메서드에서 pring(self.hello) 처럼 속성을 출력할 수 있는 것이다. 인스턴스와 self의 관계를 그림으로 나타내면 다음과 같다. 지금까지 만든 클래스는 인사만 할 줄 아는 단순한 클래스이다. 클래스로 인스턴스를 만들어봐야 다 똑같이 '안녕하세요'만 출력할 뿐이다. 인스턴스를 만들 때 값 받기 이번에는 클래스로 인스턴스를 만들 때 값을 받는 방법을 알아보겠다. 다음과 같이 init 메서드에서 self다음에 값을 받을 매개변수를 지정한다. 그리고 매겨변수를 self.속성 에 넣어준다. class 클래스이름: def __init__(self, 매개변수1, 매개변수2): self.속성1 = 매개변수1 self.속성2 = 매개변수2 그럼 Person 클래스로 인스턴스를 만들 때 이름,나이,주소를 받아보겠다. class Person: def __init__(self, name, age, address): self.hello = '안녕하세요.' self.name = name self.age = age self.address = address def greeting(self): print('{0} 저는 {1}입니다.'.format(self.hello, self.name)) maria = Person('마리아', 20, '서울시 서초구 반포동') maria.greeting() # 안녕하세요. 저는 마리아입니다. print('이름:', maria.name) # 마리아 print('나이:', maria.age) # 20 print('주소:', maria.address) # 서울시 서초구 반포동 실행결과 안녕하세요. 저는 마리아입니다. 이름: 마리아 나이: 20 주소: 서울시 서초구 반포동 init 메서드를 보면 self 다음에 name,age,address 를 지정했다. 그리고 메서드 안에서는 self.name = name 처럼 매개변수를 그대로 self에 넣어서 속성으로 만들었다. def __init__(self, name, age, address): self.hello = '안녕하세요.' self.name = name self.age = age self.address = address greeting 메서드는 인사를 하고 이름을 출력하도록 수정했다. 물론 name 속성에 접근할때는 self.name처럼 사용해야한다. def greeting(self): print('{0} 저는 {1}입니다.'.format(self.hello, self.name)) 이제 Person의 () 안에 이름,나이,주소를 콤마로 구분해서 넣은 뒤에 변수에 할당한다. 이렇게 하면 이름은 '마리아' , 나이는 20, 주소는 '서울시 서초구 반포동' 인 maria 인스턴스가 만들어진다. maria = Person('마리아', 20, '서울시 서초구 반포동') 즉 , 다음과 같이 Person 의 괄호 안에 넣은 값은 init 메서드에서 self 뒤에 있는 매겨변수에 차례대로 들어간다. maria 인스턴스의 greeting 메서드를 호출해보면 '안녕하세요. 저는 마리아입니다' 처럼 인삿말과 함께 이름도 출력이 된다. maria.greeting() # 안녕하세요. 저는 마리아입니다. 클래스 안에서 속성에 접근할 때는 self.속성 이었다. 클래스 바깥에서 속성에 접근 할 때는 인스턴스.속성 형식으로 접근한다. 다음과 같이 maria.name ,maria.age , maria.address 의 값을 출력해 보면 Person으로 인스턴스를 만들 때 넣었던 값이 출력된다. print('이름:', maria.name) # 마리아 print('나이:', maria.age) # 20 print('주소:', maria.address) # 서울시 서초구 반포동 이렇게 인스턴스를 통해 접근하는 속성을 인스턴스 속성이이라고 한다. 실제 업무에서 적용해보기) SOURCE = 'KRX-TRACKING-ERROR-RATE' JOB = 'EXTRACT' TODAY = datetime.now().strftime(\"%Y-%m-%d\") DATATODAY = (datetime.now() - timedelta(days=1)).strftime(\"%Y%m%d\") class MongoTemplate: def __init__(self,target, data) -> None: self.date = TODAY self.source = SOURCE self.target = target self.job = JOB self.data = data 위 코드를 분석해보면 ,self 뒤의 target,data(매겨변수) 가 self.속성에 값으로 들어가있다. 추가로 위의 SOURCE ,JOB , TODAY 도 self.속성에 들어갔다. 참고자료 https://dojang.io/mod/page/view.php?id=2373 이상으로 Python- 속성 사용하기를 마치도록 하겠습니다. 더 나은 개발이 되길 바라며:) 심준보 develope / exercise / fashion 다음 포스트 Python - 예외 처리 사용하기 0개의 댓글 댓글 작성 Python - 예외 처리 사용하기 mmm.junjoy.log 로그인 mmm.junjoy.log 로그인 Python - 예외 처리 사용하기 sjb2010·2023년 1월 16일 0 python 0 Python 목록 보기 2/6 Python - 예외 처리 사용하기 예외(exception)란 코드를 실행하는 중에 발생한 에러를 뜻합니다. 예1) def ten_div(x): return 10/x 위 함수에 2를 넣을 경우 >>> ten_div(2) 5.0 하지만 , 0을 넣을 경우 실행 중 에러가 발생한다. 이런 상황을 예외라고 하는데 여기서는 어떤 숫자를 0으로 나누어서 ZeroDivisionError 예외가 발생했다. >>> ten_div(0) Traceback (most recent call last): File \"\", line 1, in ten_div(0) File \"\", line 2, in ten_div return 10 / x ZeroDivisionError: division by zero 이번에는 예외가 발생했을 때도 스크립트 실행을 중단하지 않고 계속 실행하게 해주는 예외 처리 방법에 대해 알아보겠다. try except 사용하기 예외 처리를 하려면 다음과 같이 try에 실행할 코드를 넣고 except에 예외가 발생했을 떄 처리하는 코드를 넣습니다. try: 실행할 코드 except: 예외가 발생했을때 처리하는 코드 예2) try: x = int(input('나눌 숫자를 입력하세요: )) y = 10/x print(y) except: print('예외가 발생하였습니다.') 위 소스코드를 실행한 뒤 0을 입력하면 , 나눌 숫자를 입력하세요: 0 (입력) 예외가 발생했습니다. 위 상황처럼 결과가 나오게 된다. 특정 예외만 처리하기 이번에는 except에 예외. 이름을 지정해서 특정 예외가 발생했을 때만 처리코드를 실행하도록 만들어보자. try: 실행할 코드 except 예외이름: 예외가 발생했을 때 처리하는 코드 예 3) 정수를 2개를 입력받아서 하나는 리스트의 인덱스로 사용하고 , 하나는 나누는 값으로 사용한다. 그리고 except를 두개 사용하고 가각 ZeroDivisionError와 IndexError로 지정한다. y = [10, 20, 30] try: index, x = map(int, input('인덱스와 나눌 숫자를 입력하세요: ').split()) print(y[index] / x) except ZeroDivisionError: # 숫자를 0으로 나눠서 에러가 발생했을 때 실행됨 print('숫자를 0으로 나눌 수 없습니다.') except IndexError: # 범위를 벗어난 인덱스에 접근하여 에러가 발생했을 때 실행됨 print('잘못된 인덱스입니다.') 상황 1 ) 소스 코드를 실행한 뒤 2 0을 입력해보자 인덱스와 나눌 숫자를 입력하세요: 2 0 (입력) 숫자를 0으로 나눌 수 없습니다. 2 0을 입력하게 되면 30/0이 되므로 숫자를 0으로 나누게 된다. 이때는 except ZeroDivisionError:의 처리 코드가 실행된다. 상황 2 ) 이번엔 소스 코드에 3 5를 입력해보자 인덱스와 나눌 숫자를 입력하세요: 3 5 (입력) 잘못된 인덱스입니다. 그럼 결과가 , 인덱스와 나눌 숫자를 입력하세요: 3 5 (입력) 잘못된 인덱스입니다. 이렇게 나오게 된다. 이유는 y에는 3개의 요소가 들어있는 리스트이다 . 따라서 인덱스 3을 넘어가면 예외처리 코드가 실행된다. 예외의 에러 메시지 받아오기 except에서 as 뒤에 변수를 지정하면 발생한 예외의 에러 메세지를 받아올 수 있다. try: 실행할 코드 except 예외 as 변수: 예외가 발생했을 때 처리하는 코드 위 코드의 except에 as e를 넣어보자 . 보통 예외(exception)의 e를 따서 변수이름을 e로 짓는다. 예 4) y = [10, 20, 30] try: index, x = map(int, input('인덱스와 나눌 숫자를 입력하세요: ').split()) print(y[index] / x) except ZeroDivisionError as e: # as 뒤에 변수를 지정하면 에러를 받아옴 print('숫자를 0으로 나눌 수 없습니다.', e) # e에 저장된 에러 메시지 출력 except IndexError as e: print('잘못된 인덱스입니다.', e) 상황 3) 인덱스와 나눌 숫자를 입력하세요: 2 0 (입력) 숫자를 0으로 나눌 수 없습니다. division by zero 상황 4) 인덱스와 나눌 숫자를 입력하세요: 3 5 (입력) 잘못된 인덱스입니다. list index out of range 이렇게 해당 예외에 해당하는 에러 메시지가 출력된다. 단 , 예외가 여러 개 발생하더라도 먼저 발생한 예외의 처리 코드만 실행된다. 참고로 , 모든 예외의 에러 메시지를 출력하고 싶다면 다음과 같이 except에 Exception을 지정하고 as 뒤에 변수를 넣으면 된다. except Exception as e: # 모든 예외의 에러 메시지를 출력할 때는 Exception을 사용 print('예외가 발생했습니다.', e) 이처럼 예외 처리는 에러가 발생하더라도 스크립트의 실행을 중단시키지 않고 계속 실행하고자 할 때 사용합니다. 파이썬 예외 계층도 전체 계층도는 파이썬 공식 문서를 참조하세요. Built-in Exceptions: https://docs.python.org/3/library/exceptions.html#exception-hierarchy 이상으로 Python - 예외 처리하기를 마무리하도록 하겠습니다. 더 나은 개발이 되길 바라며:) 심준보 develope / exercise / fashion 이전 포스트 Python - 속성 사용하기 다음 포스트 Python - logging 0개의 댓글 댓글 작성 Python - logging mmm.junjoy.log 로그인 mmm.junjoy.log 로그인 Python - logging sjb2010·2023년 1월 16일 0 python 0 Python 목록 보기 3/6 logging — 파이썬 로깅 시설 이 모듈은 응용 프로그램과 라이브러리를 위한 유연한 이벤트 로깅 시스템을 구현하는 함수와 클래스를 정의한다. 표준 라이브러리 모듈로 로깅 API를 제공하는 것의 주요 이점은, 모든 파이썬 모듈이 로깅에 참여할 수 있어서, 응용 프로그램 로그에 여러분 자신의 메세지를 제삼자 모듈의 메시지와 통합할 수 있다는 것이다. The Simple example) >>> import logging >>> logging.warning('Watch out!') WARNING:root:Watch out! Logger 객체 로거에는 다음과 같은 어트리뷰트와 메서드가 있다. 로거는 결코 직접 인스턴스를 만드는 일 없이, 항상 모듈 수준의 함수 logging.getLogger(name) 를 거치는 것에 주의해야한다. 같은 이름(name)으로 getLogger() 를 여러 번 호출해도 항상 같은 로거 객체에 대한 참조를 돌려준다. 실제 사용 예시 import os, pymongo, requests, json, logging ,time logger = logging.getLogger('uvicorn') 위 코드는 현재 진행하고 있는 프로젝트에 쓰인 간단한 로그 코드이다. https://docs.python.org/ko/3/library/logging.html#module-logging 더 자세한 사항은 위 주소를 참고하길 바랍니다. 이상으로 logging에 대한 기본적인 개념을 마치겠습니다. 더 나은 개발이 되길 바라며:) 심준보 develope / exercise / fashion 이전 포스트 Python - 예외 처리 사용하기 다음 포스트 [Python] FastAPI의 APIRouter 0개의 댓글 댓글 작성 [Python] FastAPI의 APIRouter mmm.junjoy.log 로그인 mmm.junjoy.log 로그인 [Python] FastAPI의 APIRouter sjb2010·2023년 1월 16일 0 python 0 Python 목록 보기 4/6 APIRouter 애플리케이션이나 웹 API를 빌드하는 경우 모든 코드를 하나의 파일에 넣는 경우는 드물다. APIRouter는 FastAPI에서 여러 개의 파일을 통해 프로젝트 구조를 구성하여 더 큰 애플리케이션을 만들 수 있도록 하는 도구다. importAPIRouter FastaPI 클래스와 같은 방식으로 가져와서 인스턴스를 생성한다. APIRouter 도구를 사용하기 위한 기본 세팅이다. from fastapi import APIRouter router = APIRouter() 경로 연산(path operations) 이어서 하는걸로 합시다. https://scshim.tistory.com/575 심준보 develope / exercise / fashion 이전 포스트 Python - logging 다음 포스트 Python 가상환경 - mac 0개의 댓글 댓글 작성 Python 가상환경 - mac mmm.junjoy.log 로그인 mmm.junjoy.log 로그인 Python 가상환경 - mac sjb2010·2023년 1월 25일 0 python 0 Python 목록 보기 5/6 [pyhton] - 가상환경 mac 윈도우를 사용하다 mac을 사용하면서 가상환경 세팅 방법에 대해 다시 알아보았다. 차근차근 설명을 진행할테니 잘 따라와주시길 바랍니다. 1. 먼저 , cmd 창을 켜줍니다. 이렇게 생긴 귀여운 아이콘을 클릭하면 실행이 됩니다:) 혹시나 못찾을 경우는 command - space 를 동시에 클릭을 한 뒤 , '터미널' 이라고 입력을 하게 되면 실행이 가능합니다. 2. 가상환경을 실행시키기 위한 모듈을 설치해줍니다. $ pip install virtualenv virtualenvwrapper #python2 $ pip3 install virtualenv virtualenvwrapper #python3 위의 두가지 명령어의 차이는 자신의 python 버전이 2 ,3 의 차이입니다. 여기서 자신의 python 버전을 알고 싶을 떄 사용하는 명령어를 말씀드리자면 , pyhton -v pyhton3 -v 위 둘 중 하나의 명령어를 입력하면 자신의 버전이 무엇인지 정확하게 알 수 있습니다. 3. 다음으로는 , 가상환경을 실행할 폴더(경로)를 설정하는 것입니다. 여기서 새로운 폴더를 생성한 뒤 가상환경을 실행시키는 것을 추천합니다. 1. cd desktop ## desktop으로 이동 2. mkdir 만들고자 하는 폴더명 ## rmdir 삭제하고자 하는 폴더명 위의 1,2 번 방법을 이용한다면 폴더를 생성할 수 있습니다. 추가로 아래의 rmdir 명령어를 사용한다면 자신이 지우고자하는 폴더를 손쉽게 삭제할 수 있습니다. 4. 이렇게 된다면 , 이제 세팅이 거의 완료됬다고 볼 수 있습니다. 이제 아래의 명령어를 사용한다면 가상환경이 만들어집니다. $ python3 -m virtualenv --python='위에서 설명한 자신의 정확한 파이썬 버전' '자신이 새로 생성한 폴더명' 여기서 '' 는 구분을 위한 것이니 실제로 명령어를 입력할때는 빼고 써주시면 됩니다. 위의 파이썬 버전이라고 하는 것은 예로 3.11.1 과 같은 것을 말합니다. 5. 이제 마지막으로 가상환경 실행입니다. $ source 'your venv name'/bin/activate 위의 명령어를 입력까지 마치게 되면 , 가상환경이 실행이 됩니다. 실행될 시 화면 , 이런식으로 앞에 자신의 폴더명과 함께 () 표시가 추가된다. flow는 폴더명 이상으로 가상환경 셋팅에 대한 방법 설명이 끝이났습니다. 감사합니다 . 더 나은 개발이 되길 바라며 :) 심준보 develope / exercise / fashion 이전 포스트 [Python] FastAPI의 APIRouter 다음 포스트 Python-mysql data 불러오기 0개의 댓글 댓글 작성 Python-mysql data 불러오기 mmm.junjoy.log 로그인 mmm.junjoy.log 로그인 Python-mysql data 불러오기 sjb2010·2023년 1월 30일 0 python 0 Python 목록 보기 6/6 Python-mysql data 불러오기 python 을 이용하여 mysql 에 적재된 데이터를 불러오는 방법이다. 1. 모듈을 설치해주자 import pymysql 2. DB를 연결해주자 # 예시 dbog= pymysql.connect(host=\"10.1**.*.***\",port=***,user=\"**\",passwd=\"**_!23$\",db=\"scrap_krx\", charset='utf8') 위에 있는 파라미터에 맞게 자신이 연결시키고자 하는 db의 정보를 기입해주면 연결이 된다. 3. 직접 데이터를 다룰수 있는 함수 cursor 이용하기. con = dbog.cursor() 이제 con 변수는 dbog에 연결되어있는 db의 데이터를 자유자제로 다룰 수 있다 4. execute를 이용하여 실행을 해보자. con.execute(\"\"SELECT * FROM listed_issue\") #() 사이에 sql문 적어주기 이렇게 하게 되면 sql문에 맞게 데이터가 추출이 된다. 5. fetchall() 이용 rows = con.fetchall() 커서의 fetchall() 메서드는 모든 데이타를 한꺼번에 클라이언트로 가져올 때 사용된다. 여기까지 하게 되면 , 데이터를 가져오고 조작할 준비는 마쳤다고 볼 수 있다. 기본이니 , 잘 숙지하고 사용한다면 , db를 연결하고 data를 가져오는 것은 잘 진행할 수 있을것이다. 이상으로 python mysql-data불러오기를 마치도록 하겠습니다 . 감사합니다. 더 나은 개발이 되길 바라며 :) 심준보 develope / exercise / fashion 이전 포스트 Python 가상환경 - mac 0개의 댓글 댓글 작성\"\n"
   ]
  },
  {
   "cell_type": "code",
   "execution_count": 21,
   "id": "aee38143",
   "metadata": {},
   "outputs": [],
   "source": [
    "# 특수문자제거\n",
    "from string import punctuation"
   ]
  },
  {
   "cell_type": "code",
   "execution_count": 22,
   "id": "40ceff95",
   "metadata": {},
   "outputs": [
    {
     "name": "stdout",
     "output_type": "stream",
     "text": [
      "!\n",
      "\"\n",
      "#\n",
      "$\n",
      "%\n",
      "&\n",
      "'\n",
      "(\n",
      ")\n",
      "*\n",
      "+\n",
      ",\n",
      "-\n",
      ".\n",
      "/\n",
      ":\n",
      ";\n",
      "<\n",
      "=\n",
      ">\n",
      "?\n",
      "@\n",
      "[\n",
      "\\\n",
      "]\n",
      "^\n",
      "_\n",
      "`\n",
      "{\n",
      "|\n",
      "}\n",
      "~\n"
     ]
    }
   ],
   "source": [
    "for p in punctuation:\n",
    "    print(p)\n",
    "    input_text = input_text.replace(p,\"\")"
   ]
  },
  {
   "cell_type": "code",
   "execution_count": 23,
   "id": "9b62946b",
   "metadata": {},
   "outputs": [
    {
     "data": {
      "text/plain": [
       "'Queue는 한쪽 끝rear에서는 enqueue 또 다른 끝front에서는 dequeue 연산을 하는 유한 순서리스트이다Queue는 FIFOFirst in First out 리스트이다front는 dequeue할 위치를 기록하고 rear은 enqueue할 위치를 기록한다front와 rear가 같으면 큐는 비었다는 의미와 같다rear는 입력할 데이터의 인덱스를 가리키기에 큐의 마지막 인덱스라면 더이상 원소를 집어넣을 수 없기에 에러를 발생시킨다 그렇지 않다면 그 다음 인덱스에 원소를 넣는다큐가 비었다면rear  front 빼낼 원소가 없기에 에러를 발생시키고 deque할 원소를 기록할 front를 1 더해준다deque 연산과 비슷한 방식이다peek front가 가리키는 원소를 리턴한다delete front가 가리키는 원소를 삭제한다front  1순차표현의 문제점 크기가 8인 배열에서 rear  7 front  3일때 012 인덱스는 비었지만 사용하지 못한다순차표현의 문제를 해결하기 위해 원형 큐 고안rear를 하나 증가시켰을 때 rear  front 라면 가득찼다는 의미와 같다원형 큐는 순차표현 큐에 비해 빈공간을 남기지 않아 메모리 공간을 잘 활용하지만 배열로 구현되기에 큐의 크기는 제한된다는 단점이 있다한정된 크기를 개선하기 위해 연결리스트 큐 고안연결리스트 표현으로 바뀌었지만 내부 동작은 순차표현 큐와 비슷하다'"
      ]
     },
     "execution_count": 23,
     "metadata": {},
     "output_type": "execute_result"
    }
   ],
   "source": [
    "input_text"
   ]
  },
  {
   "cell_type": "code",
   "execution_count": 24,
   "id": "8b272095",
   "metadata": {},
   "outputs": [],
   "source": [
    "# 입력 텍스트를 토큰화하여 모델 입력 형식으로 변환\n",
    "input_ids = tokenizer.encode(input_text, return_tensors =\"pt\")"
   ]
  },
  {
   "cell_type": "code",
   "execution_count": 25,
   "id": "629921f5",
   "metadata": {},
   "outputs": [],
   "source": [
    "summary_ids = model.generate(input_ids)"
   ]
  },
  {
   "cell_type": "code",
   "execution_count": 26,
   "id": "34cc37ad",
   "metadata": {},
   "outputs": [],
   "source": [
    "summary_text = tokenizer.decode(summary_ids[0], skip_special_tokens=True)"
   ]
  },
  {
   "cell_type": "code",
   "execution_count": 27,
   "id": "dd4602f5",
   "metadata": {},
   "outputs": [
    {
     "name": "stdout",
     "output_type": "stream",
     "text": [
      "Quue is a reasonable list of things that in one end of the list are to be used to make sure that enquequet and the end of the sequence are the same, but in the other end of the sequence, it is the same as FIFFOFIRST in firstout list.\n"
     ]
    }
   ],
   "source": [
    "print(summary_text)"
   ]
  },
  {
   "cell_type": "code",
   "execution_count": 28,
   "id": "ca4d3588",
   "metadata": {},
   "outputs": [],
   "source": [
    "import googletrans\n",
    "\n",
    "translator = googletrans.Translator()"
   ]
  },
  {
   "cell_type": "code",
   "execution_count": 29,
   "id": "e85a1429",
   "metadata": {},
   "outputs": [],
   "source": [
    "outstr = translator.translate(summary_text,dest='ko', src = 'auto')"
   ]
  },
  {
   "cell_type": "code",
   "execution_count": 30,
   "id": "4eb1cef6",
   "metadata": {},
   "outputs": [
    {
     "name": "stdout",
     "output_type": "stream",
     "text": [
      "Quue is a reasonable list of things that in one end of the list are to be used to make sure that enquequet and the end of the sequence are the same, but in the other end of the sequence, it is the same as FIFFOFIRST in firstout list. => Quue는 목록의 한쪽 끝에서 Enquequet과 시퀀스의 끝이 동일하지만 시퀀스의 다른 쪽 끝에서 Fiffofirst와 동일합니다.목록.\n"
     ]
    }
   ],
   "source": [
    "print(f\"{summary_text} => {outstr.text}\")"
   ]
  },
  {
   "cell_type": "code",
   "execution_count": null,
   "id": "536d11c8",
   "metadata": {},
   "outputs": [],
   "source": []
  },
  {
   "cell_type": "code",
   "execution_count": null,
   "id": "b143a366",
   "metadata": {},
   "outputs": [],
   "source": []
  }
 ],
 "metadata": {
  "kernelspec": {
   "display_name": "Python 3 (ipykernel)",
   "language": "python",
   "name": "python3"
  },
  "language_info": {
   "codemirror_mode": {
    "name": "ipython",
    "version": 3
   },
   "file_extension": ".py",
   "mimetype": "text/x-python",
   "name": "python",
   "nbconvert_exporter": "python",
   "pygments_lexer": "ipython3",
   "version": "3.9.16"
  }
 },
 "nbformat": 4,
 "nbformat_minor": 5
}
